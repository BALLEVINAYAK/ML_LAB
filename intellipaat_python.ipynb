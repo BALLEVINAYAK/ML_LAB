{
  "nbformat": 4,
  "nbformat_minor": 0,
  "metadata": {
    "colab": {
      "provenance": [],
      "authorship_tag": "ABX9TyMRhUusmhsvXDFWBXhNF4zj",
      "include_colab_link": true
    },
    "kernelspec": {
      "name": "python3",
      "display_name": "Python 3"
    },
    "language_info": {
      "name": "python"
    }
  },
  "cells": [
    {
      "cell_type": "markdown",
      "metadata": {
        "id": "view-in-github",
        "colab_type": "text"
      },
      "source": [
        "<a href=\"https://colab.research.google.com/github/BALLEVINAYAK/ML_LAB/blob/main/intellipaat_python.ipynb\" target=\"_parent\"><img src=\"https://colab.research.google.com/assets/colab-badge.svg\" alt=\"Open In Colab\"/></a>"
      ]
    },
    {
      "cell_type": "code",
      "execution_count": null,
      "metadata": {
        "id": "hUgYKPVaM4GE"
      },
      "outputs": [],
      "source": []
    },
    {
      "cell_type": "markdown",
      "source": [
        "PYTHON BASICS"
      ],
      "metadata": {
        "id": "aM3PgBF1OJmc"
      }
    },
    {
      "cell_type": "markdown",
      "source": [
        "python was developed in year 1989 by guido van rossum\n",
        "\n",
        "* its is programming language :a mediator between a programer and a machine\n",
        "\n",
        "* python is high level language : human readable code,easy to understand\n",
        "\n",
        "*python is interepreter language ,it means its processes each code line by line (or) one by one\n",
        "\n",
        "* python is case sensitive  :- the whole code must in same case like example\n",
        "\n",
        "{ \"a\" is not equal to \"A\"} .\n",
        "\n",
        "\n",
        "          //WHY DO WE USE PYTHON ?\n",
        "\n",
        "- Python is easy t learn ,like english\n",
        "- it is user frierndly\n",
        "- large library domain ,python is very flexiable it can be used in various places,it has large no of libraries which can import to use in code  \n",
        "- python is open source\n",
        "\n",
        "\n",
        "         // WHERE WE USE PYTHO ?\n",
        "\n",
        " - Python is used in many way\n",
        " - used to create web applications  \n",
        " -  web developement\n",
        " - AI/ML\n",
        " -Data science\n",
        "\n",
        "         print function//\n",
        "\n",
        "\n",
        "- print function is a fuction that already had some definiton\n",
        "\n"
      ],
      "metadata": {
        "id": "P8ic6g4fPaRp"
      }
    },
    {
      "cell_type": "markdown",
      "source": [],
      "metadata": {
        "id": "pEoW1O5ffBy9"
      }
    },
    {
      "cell_type": "code",
      "source": [
        "#Introduction to python\n",
        "print(\"hi ,this is vinay\")# shows us something on the screen"
      ],
      "metadata": {
        "colab": {
          "base_uri": "https://localhost:8080/"
        },
        "id": "jevEGAUWfoNK",
        "outputId": "317a48bf-f5a0-4aaf-84b1-5474b2cbee61"
      },
      "execution_count": null,
      "outputs": [
        {
          "output_type": "stream",
          "name": "stdout",
          "text": [
            "hi ,this is vinay\n"
          ]
        }
      ]
    },
    {
      "cell_type": "markdown",
      "source": [
        "              VARIABLES :-\n",
        "\n",
        "- Container that stores your data  \n",
        "- Rules(naming conventions)\n",
        "\n",
        " 1.A variable name cannont begin with a digit.\n",
        "\n",
        " 2.a variable name should either begin with a latter or _ (underscore)\n",
        "\n",
        " 3.variable cannot have whitespaces(empty spaces)\n",
        "\n",
        "\n"
      ],
      "metadata": {
        "id": "e4yV-bz1hjqv"
      }
    },
    {
      "cell_type": "markdown",
      "source": [],
      "metadata": {
        "id": "3I1oPxMfOywN"
      }
    },
    {
      "cell_type": "code",
      "source": [
        "a=10\n",
        "print(a)\n",
        "\n",
        "_1=43\n",
        "print(_1)\n",
        "\n",
        "\n"
      ],
      "metadata": {
        "id": "PN2HR9tYOMWd",
        "colab": {
          "base_uri": "https://localhost:8080/"
        },
        "outputId": "52cac465-12a6-4a32-b0d8-38f8d307624c"
      },
      "execution_count": null,
      "outputs": [
        {
          "output_type": "stream",
          "name": "stdout",
          "text": [
            "10\n",
            "43\n"
          ]
        }
      ]
    },
    {
      "cell_type": "markdown",
      "source": [
        "              // DATA TYPES //\n",
        "\n",
        "- data type tells you the kind of data a variable can hold\n",
        "\n",
        "there are 4 types they are\n",
        "\n",
        " 1.intege(non decimal numbera)\n",
        "\n",
        " 2.float(decimal number)\n",
        "\n",
        " 3.string(collection of characters,its is immutable it means a string cannot be modified)\n",
        "\n",
        " 4.boolen (true/false values:(1/0))\n"
      ],
      "metadata": {
        "id": "WhU0bzFrlyTn"
      }
    },
    {
      "cell_type": "code",
      "source": [
        "#integer\n",
        "\n",
        "a=10\n",
        "print(10)\n",
        "\n",
        "#floatb\n",
        "b=1.56\n",
        "print(b)\n",
        "\n",
        "#string(string should be present in between \"\")\n",
        "c=\"vinay\"\n",
        "print(c)\n",
        "\n",
        "#boolen(true /false)\n",
        "d=True\n",
        "print(d)"
      ],
      "metadata": {
        "id": "f640zhH6ONOA",
        "colab": {
          "base_uri": "https://localhost:8080/"
        },
        "outputId": "8be73048-06a6-4a41-f96f-def45b3fe635"
      },
      "execution_count": null,
      "outputs": [
        {
          "output_type": "stream",
          "name": "stdout",
          "text": [
            "10\n",
            "1.56\n",
            "vinay\n",
            "True\n"
          ]
        }
      ]
    },
    {
      "cell_type": "code",
      "source": [
        "#type functions : tells you the data type of your variable\n",
        "a1=10\n",
        "print(a1,type(a1)) # we us comma here is to concatentes(to link things together in series)\n",
        "\n",
        "a2=\"10\"\n",
        "print(a2,type(a2))\n"
      ],
      "metadata": {
        "colab": {
          "base_uri": "https://localhost:8080/"
        },
        "id": "SmbZDlLJrLA_",
        "outputId": "5971f1f3-9361-47e7-dac6-17316cd8f70d"
      },
      "execution_count": null,
      "outputs": [
        {
          "output_type": "stream",
          "name": "stdout",
          "text": [
            "10 <class 'int'>\n",
            "10 <class 'str'>\n"
          ]
        }
      ]
    },
    {
      "cell_type": "markdown",
      "source": [
        "               //TYPE CASTING\n",
        "- Type casting is forcefully changing the data type of a varibale"
      ],
      "metadata": {
        "id": "c9C25FVoL65y"
      }
    },
    {
      "cell_type": "code",
      "source": [
        "light_on=1 # here in boolen every non zero values give true & zero value give false\n",
        "light_on2=False\n",
        "print(bool(light_on))\n",
        "print(light_on2)\n"
      ],
      "metadata": {
        "colab": {
          "base_uri": "https://localhost:8080/"
        },
        "id": "PgCy6ifuLYbZ",
        "outputId": "9abec33b-6e03-4c36-8379-70018ea590f2"
      },
      "execution_count": null,
      "outputs": [
        {
          "output_type": "stream",
          "name": "stdout",
          "text": [
            "True\n",
            "False\n"
          ]
        }
      ]
    },
    {
      "cell_type": "markdown",
      "source": [],
      "metadata": {
        "id": "dYy5TMCVLwOS"
      }
    },
    {
      "cell_type": "code",
      "source": [
        "#chaging float to string\n",
        "a=15.3\n",
        "print(a,type(a))\n",
        "\n",
        "print(str(a),type(str(a)))"
      ],
      "metadata": {
        "colab": {
          "base_uri": "https://localhost:8080/"
        },
        "id": "I7SDu4VUx_gT",
        "outputId": "e200ce08-7ec2-4e86-9c8d-76766cd3fae6"
      },
      "execution_count": null,
      "outputs": [
        {
          "output_type": "stream",
          "name": "stdout",
          "text": [
            "15.3 <class 'float'>\n",
            "15.3 <class 'str'>\n"
          ]
        }
      ]
    },
    {
      "cell_type": "code",
      "source": [
        "#initialize 4 different variables,storing 4 different data type values.\n",
        "#print the variable and its data type\n",
        "#type cast any variable (int to float)\n",
        "\n",
        "a=10\n",
        "b=9.1\n",
        "c=\"vinay\"\n",
        "d=True\n",
        "print(a,type(a))\n",
        "print(b,type(b))\n",
        "print(c,type(c))\n",
        "print(d,type(d))\n",
        "print(float(a))\n"
      ],
      "metadata": {
        "id": "FDtkWdR9uRvy",
        "colab": {
          "base_uri": "https://localhost:8080/"
        },
        "outputId": "b1ab5fbe-a3b6-4456-db99-27653d1dac5f"
      },
      "execution_count": null,
      "outputs": [
        {
          "output_type": "stream",
          "name": "stdout",
          "text": [
            "10 <class 'int'>\n",
            "9.1 <class 'float'>\n",
            "vinay <class 'str'>\n",
            "True <class 'bool'>\n",
            "10.0\n"
          ]
        }
      ]
    },
    {
      "cell_type": "markdown",
      "source": [
        "               // OPERATORS\n",
        "  \n",
        "- Special symbols that perform some operations on values(operands)\n",
        "\n",
        "- there few operations they are\n",
        "    \n",
        "    1. Arithmetic operator(+,*,-,/,//,%)\n",
        "    2.Exponential operator\n",
        "    3.Comparsion operator\n",
        "    4.Logical operator\n",
        "    5.Assignment operator\n"
      ],
      "metadata": {
        "id": "2MM9FkSRn43f"
      }
    },
    {
      "cell_type": "markdown",
      "source": [
        "              //AIRTHMETIC OPERATIONS"
      ],
      "metadata": {
        "id": "xYCQ5iIUwcUH"
      }
    },
    {
      "cell_type": "code",
      "source": [
        "#Arthmetic operation ,they four type they are addtion,subtraction,multiplication,division\n",
        "#Additiom\n",
        "\n",
        "a=96\n",
        "b=83\n",
        "print(\"Total marks \",a+b)\n",
        "\n",
        "\n",
        "\n",
        "\n"
      ],
      "metadata": {
        "colab": {
          "base_uri": "https://localhost:8080/"
        },
        "id": "iVb1T8U6rNe1",
        "outputId": "8e6b3685-81b4-4904-9d93-1b735b0ec5a0"
      },
      "execution_count": null,
      "outputs": [
        {
          "output_type": "stream",
          "name": "stdout",
          "text": [
            "Total marks  179\n"
          ]
        }
      ]
    },
    {
      "cell_type": "code",
      "source": [
        "#subtraction\n",
        "a1=100\n",
        "b1=79\n",
        "print(\"Total difference between:\",a1-b1)"
      ],
      "metadata": {
        "colab": {
          "base_uri": "https://localhost:8080/"
        },
        "id": "n1VgnY0fsdfy",
        "outputId": "b313976e-f984-4d7a-91e6-3cdc790fe1d3"
      },
      "execution_count": null,
      "outputs": [
        {
          "output_type": "stream",
          "name": "stdout",
          "text": [
            "Total difference between: 21\n"
          ]
        }
      ]
    },
    {
      "cell_type": "code",
      "source": [
        "#Multiplication\n",
        "a=96\n",
        "b=83\n",
        "print(a*b)"
      ],
      "metadata": {
        "colab": {
          "base_uri": "https://localhost:8080/"
        },
        "id": "7LkQjpEAtKUr",
        "outputId": "ab0b10b3-c9b1-40e6-ea64-8ed7e85de556"
      },
      "execution_count": null,
      "outputs": [
        {
          "output_type": "stream",
          "name": "stdout",
          "text": [
            "7968\n"
          ]
        }
      ]
    },
    {
      "cell_type": "code",
      "source": [
        "#divison(when ever we use division it give you th exact float value ) here we use one /\n",
        "a=96\n",
        "b=5\n",
        "print(a/b)"
      ],
      "metadata": {
        "colab": {
          "base_uri": "https://localhost:8080/"
        },
        "id": "r4nuGq68tbxn",
        "outputId": "0ac944c8-08a2-45ae-ee0f-4383e903b4d6"
      },
      "execution_count": null,
      "outputs": [
        {
          "output_type": "stream",
          "name": "stdout",
          "text": [
            "19.2\n"
          ]
        }
      ]
    },
    {
      "cell_type": "code",
      "source": [
        "from re import T\n",
        "r=100\n",
        "t=100\n",
        "u=r//t\n",
        "print(\"product\",r*t)\n",
        "print(u)"
      ],
      "metadata": {
        "colab": {
          "base_uri": "https://localhost:8080/"
        },
        "id": "H8vVhwZfw_O7",
        "outputId": "84d63c9b-3a77-4ef3-8113-c5e9a694a871"
      },
      "execution_count": null,
      "outputs": [
        {
          "output_type": "stream",
          "name": "stdout",
          "text": [
            "product 10000\n",
            "1\n"
          ]
        }
      ]
    },
    {
      "cell_type": "code",
      "source": [
        "#Floor  division (gives us only integer part ) here we use double //\n",
        "a=10\n",
        "b=2\n",
        "print(a//b)"
      ],
      "metadata": {
        "colab": {
          "base_uri": "https://localhost:8080/"
        },
        "id": "s6Ohd8LpuEFM",
        "outputId": "6bf0d626-deb8-4c05-98b9-ae4e8810010a"
      },
      "execution_count": null,
      "outputs": [
        {
          "output_type": "stream",
          "name": "stdout",
          "text": [
            "5\n"
          ]
        }
      ]
    },
    {
      "cell_type": "code",
      "source": [
        "#Modulus(%) gives remainder\n",
        "a=10\n",
        "b=3\n",
        "print(a%b)"
      ],
      "metadata": {
        "colab": {
          "base_uri": "https://localhost:8080/"
        },
        "id": "fuFtoT19u5gM",
        "outputId": "57429207-f5fd-4624-f444-f42a08438097"
      },
      "execution_count": null,
      "outputs": [
        {
          "output_type": "stream",
          "name": "stdout",
          "text": [
            "1\n"
          ]
        }
      ]
    },
    {
      "cell_type": "markdown",
      "source": [
        "                // EXPONENTIAL OPERATOR"
      ],
      "metadata": {
        "id": "1KrP5vsEwmtr"
      }
    },
    {
      "cell_type": "code",
      "source": [
        "#exponential operator\n",
        "#exponential mean we just call it like (a to the power ) we represnt by (**) a**b\n",
        "\n",
        "a=8\n",
        "b=3\n",
        "print(a**b)\n",
        "#8 should multiply 3 times  like 8x8x8"
      ],
      "metadata": {
        "colab": {
          "base_uri": "https://localhost:8080/"
        },
        "id": "mdq6W7jLwXqx",
        "outputId": "c68f114e-6cc7-47e7-a8c9-20854702f58f"
      },
      "execution_count": null,
      "outputs": [
        {
          "output_type": "stream",
          "name": "stdout",
          "text": [
            "512\n"
          ]
        }
      ]
    },
    {
      "cell_type": "markdown",
      "source": [
        "        //COMPARSION OPERATOR\n",
        "\n",
        "  - Gives you boolen outputs,compare valuse\n"
      ],
      "metadata": {
        "id": "KDXEQIZFy4UR"
      }
    },
    {
      "cell_type": "code",
      "source": [
        "a=5\n",
        "b=3\n",
        "print(a==b)#here its checks the statement whether its true or false and its gives tha result or output\n",
        "print(a!=b)"
      ],
      "metadata": {
        "colab": {
          "base_uri": "https://localhost:8080/"
        },
        "id": "8KDX8_-qzAe4",
        "outputId": "0355eb4f-f4c8-4181-97f3-4a9de16a4744"
      },
      "execution_count": null,
      "outputs": [
        {
          "output_type": "stream",
          "name": "stdout",
          "text": [
            "False\n",
            "True\n"
          ]
        }
      ]
    },
    {
      "cell_type": "code",
      "source": [
        "a=5\n",
        "b=3\n",
        "print(b<a)\n",
        "print(a<b)\n",
        "print(a>b)"
      ],
      "metadata": {
        "colab": {
          "base_uri": "https://localhost:8080/"
        },
        "id": "auq_n7iR1cvu",
        "outputId": "c0463e65-1c3f-46dc-b084-37626d80e759"
      },
      "execution_count": null,
      "outputs": [
        {
          "output_type": "stream",
          "name": "stdout",
          "text": [
            "True\n",
            "False\n",
            "True\n"
          ]
        }
      ]
    },
    {
      "cell_type": "code",
      "source": [
        "c=5\n",
        "print(a>=b)#here 5>3\n",
        "print(a>=c)# here 5<=5\n",
        "print(a<=c)#here 5>=5 so here it gives you all outputs as true"
      ],
      "metadata": {
        "colab": {
          "base_uri": "https://localhost:8080/"
        },
        "id": "nqTwJcEL1960",
        "outputId": "8a127a48-6f2f-41c8-cc6c-c7eca82a8aba"
      },
      "execution_count": null,
      "outputs": [
        {
          "output_type": "stream",
          "name": "stdout",
          "text": [
            "True\n",
            "True\n",
            "True\n"
          ]
        }
      ]
    },
    {
      "cell_type": "markdown",
      "source": [
        "// LOGICAL OPERATOR\n",
        "\n",
        "- THERE 2 TYPES OF OPERATORS ARE PRESENT THEY ARE (AND , NOT )\n",
        "\n",
        "- here  in AND both a and b values should be true (1,1)\n",
        "\n",
        "- here in 0R opertor i atleast condition should be true\n",
        "  \n",
        "  TRUTH TABLE FOR AND\n",
        "\n",
        "  a------------ b---------------final output\n",
        "\n",
        "  0-------------0---------------0(false)\n",
        "\n",
        " 0-------------1--------------0(false)\n",
        "\n",
        " 1-------------0---------------0(false)  \n",
        " 1--------------1--------------1(true)\n",
        "\n",
        "\n",
        "\n",
        "\n",
        "\n",
        "\n",
        "       // TRUTH TABLE OF OR OPERATOR\n",
        "\n",
        "  a------------ b---------------final output\n",
        "\n",
        "  0-------------0---------------0(false)\n",
        "\n",
        " 0-------------1---------------1(true)\n",
        "\n",
        " 1-------------0---------------1(ture)  \n",
        " 1--------------1--------------1(true)\n",
        "\n",
        "\n"
      ],
      "metadata": {
        "id": "QHQroFiD2rgU"
      }
    },
    {
      "cell_type": "code",
      "source": [
        "#logical AND operator\n",
        "# operator precendence(priority):\n",
        "# not  ,and  , or\n",
        "#and\n",
        "a=False #return a true value ,only when both entities are true\n",
        "b=False\n",
        "print(a and b)"
      ],
      "metadata": {
        "colab": {
          "base_uri": "https://localhost:8080/"
        },
        "id": "uGqW7-rd5FIG",
        "outputId": "35170bbc-ec7a-4760-de3b-c86efb163c4d"
      },
      "execution_count": null,
      "outputs": [
        {
          "output_type": "stream",
          "name": "stdout",
          "text": [
            "False\n"
          ]
        }
      ]
    },
    {
      "cell_type": "code",
      "source": [
        "a=False\n",
        "b=True\n",
        "print(a and b)"
      ],
      "metadata": {
        "colab": {
          "base_uri": "https://localhost:8080/"
        },
        "id": "oNG_OP4N7DR6",
        "outputId": "84cdf14e-a69d-48ea-fb81-9bf00c823add"
      },
      "execution_count": null,
      "outputs": [
        {
          "output_type": "stream",
          "name": "stdout",
          "text": [
            "False\n"
          ]
        }
      ]
    },
    {
      "cell_type": "code",
      "source": [
        "a=True\n",
        "b=True\n",
        "print(a and b)"
      ],
      "metadata": {
        "colab": {
          "base_uri": "https://localhost:8080/"
        },
        "id": "wuvGlsVM7OD7",
        "outputId": "331c87b8-6bed-44dc-9c0a-2619a684abd6"
      },
      "execution_count": null,
      "outputs": [
        {
          "output_type": "stream",
          "name": "stdout",
          "text": [
            "True\n"
          ]
        }
      ]
    },
    {
      "cell_type": "code",
      "source": [
        "#logiaval OR : here atleast one entity sholud be true\n",
        "a=True\n",
        "b=False\n",
        "print(a or b)"
      ],
      "metadata": {
        "colab": {
          "base_uri": "https://localhost:8080/"
        },
        "id": "CUKopFdM7mex",
        "outputId": "b2cf2bd0-68aa-462d-aecf-782891cb0452"
      },
      "execution_count": null,
      "outputs": [
        {
          "output_type": "stream",
          "name": "stdout",
          "text": [
            "True\n"
          ]
        }
      ]
    },
    {
      "cell_type": "code",
      "source": [
        "a=True\n",
        "b=True\n",
        "print(a or b)"
      ],
      "metadata": {
        "colab": {
          "base_uri": "https://localhost:8080/"
        },
        "id": "J5Mm2XQw8Bey",
        "outputId": "faeeebaa-29a0-4ada-e2b9-d13f028a0700"
      },
      "execution_count": null,
      "outputs": [
        {
          "output_type": "stream",
          "name": "stdout",
          "text": [
            "True\n"
          ]
        }
      ]
    },
    {
      "cell_type": "code",
      "source": [
        "a=False\n",
        "b=False\n",
        "print(a or b)"
      ],
      "metadata": {
        "colab": {
          "base_uri": "https://localhost:8080/"
        },
        "id": "EyiI3Twy8rty",
        "outputId": "9b09b1c3-c12a-46a0-b62e-77ee3bd5ed52"
      },
      "execution_count": null,
      "outputs": [
        {
          "output_type": "stream",
          "name": "stdout",
          "text": [
            "False\n"
          ]
        }
      ]
    },
    {
      "cell_type": "markdown",
      "source": [
        "            /// ASSIGGNMENT OPERATOR"
      ],
      "metadata": {
        "id": "p8Ppe7HgnQKy"
      }
    },
    {
      "cell_type": "code",
      "source": [
        "#Assignment operATORS\n",
        "a=5\n",
        "print(a)\n"
      ],
      "metadata": {
        "colab": {
          "base_uri": "https://localhost:8080/"
        },
        "id": "Fc5cTdnvnP0z",
        "outputId": "6ead5c46-e678-4f09-8a13-c69eebc35dcd"
      },
      "execution_count": null,
      "outputs": [
        {
          "output_type": "stream",
          "name": "stdout",
          "text": [
            "5\n"
          ]
        }
      ]
    },
    {
      "cell_type": "code",
      "source": [
        "v=5\n",
        "v-=4 #v=v-4, decrement\n",
        "print(v)"
      ],
      "metadata": {
        "colab": {
          "base_uri": "https://localhost:8080/"
        },
        "id": "-bD1uMM-q1P3",
        "outputId": "b0c744cf-a952-4ba9-d72b-2dded8cb25e2"
      },
      "execution_count": null,
      "outputs": [
        {
          "output_type": "stream",
          "name": "stdout",
          "text": [
            "1\n"
          ]
        }
      ]
    },
    {
      "cell_type": "code",
      "source": [
        "v=5\n",
        "v+=1 #v=v+1,increment\n",
        "print(v)"
      ],
      "metadata": {
        "colab": {
          "base_uri": "https://localhost:8080/"
        },
        "id": "IYj3Vet4rHte",
        "outputId": "33e5589e-9628-4695-9a1a-b4b26e359144"
      },
      "execution_count": null,
      "outputs": [
        {
          "output_type": "stream",
          "name": "stdout",
          "text": [
            "6\n"
          ]
        }
      ]
    },
    {
      "cell_type": "code",
      "source": [
        "v=4\n",
        "v*=3 #v=v*3\n",
        "print(v)"
      ],
      "metadata": {
        "colab": {
          "base_uri": "https://localhost:8080/"
        },
        "id": "Xr8CC244rt_H",
        "outputId": "cf44d098-8a9a-44bd-83de-621c650ad8f0"
      },
      "execution_count": null,
      "outputs": [
        {
          "output_type": "stream",
          "name": "stdout",
          "text": [
            "12\n"
          ]
        }
      ]
    },
    {
      "cell_type": "code",
      "source": [
        "v=10\n",
        "v/=5 #v=v/5 ,decrement\n",
        "print(v)"
      ],
      "metadata": {
        "colab": {
          "base_uri": "https://localhost:8080/"
        },
        "id": "x6V1oUa4spk_",
        "outputId": "09943470-b5f7-4dc9-d60f-8613d4af1272"
      },
      "execution_count": null,
      "outputs": [
        {
          "output_type": "stream",
          "name": "stdout",
          "text": [
            "2.0\n"
          ]
        }
      ]
    },
    {
      "cell_type": "code",
      "source": [
        "v=10\n",
        "v//=5 #v=v//5, decrement\n",
        "print(v)"
      ],
      "metadata": {
        "colab": {
          "base_uri": "https://localhost:8080/"
        },
        "id": "JwzfJFVXs8lB",
        "outputId": "4f68aee8-05cc-4ce3-aaf8-410b70b5485f"
      },
      "execution_count": null,
      "outputs": [
        {
          "output_type": "stream",
          "name": "stdout",
          "text": [
            "2\n"
          ]
        }
      ]
    },
    {
      "cell_type": "code",
      "source": [
        "v=10\n",
        "v%=5 #v=v%5\n",
        "print(v)"
      ],
      "metadata": {
        "colab": {
          "base_uri": "https://localhost:8080/"
        },
        "id": "zHXc_Yt_tuhW",
        "outputId": "a42db459-c22f-444a-824b-e7d95eda4d04"
      },
      "execution_count": null,
      "outputs": [
        {
          "output_type": "stream",
          "name": "stdout",
          "text": [
            "0\n"
          ]
        }
      ]
    },
    {
      "cell_type": "code",
      "source": [
        "#Practice Questions\n",
        "v=True\n",
        "v2=False\n",
        "print((v and v2) or (not v2)) # (false) or (true) = true\n"
      ],
      "metadata": {
        "colab": {
          "base_uri": "https://localhost:8080/"
        },
        "id": "lvnAfe0Tt_7e",
        "outputId": "25996bf8-8f3f-486d-a6c4-375cb429f544"
      },
      "execution_count": null,
      "outputs": [
        {
          "output_type": "stream",
          "name": "stdout",
          "text": [
            "True\n"
          ]
        }
      ]
    },
    {
      "cell_type": "markdown",
      "source": [
        "        // SEQUENTIAL DATA TYPES // complex data types\n",
        "\n",
        "-  indexing\n",
        "-  lists (ordered , mutabale (can be modified),and duplicates are allowed)\n",
        "-"
      ],
      "metadata": {
        "id": "BiQj0uzdzb60"
      }
    },
    {
      "cell_type": "code",
      "source": [
        "#lists[]: when we create a list we should kep it square brackets []\n",
        "b=[\"vinay\",12,17.9,\"ravi\"]\n",
        "#    0      1   2     3   representing index values\n",
        "print(b)\n"
      ],
      "metadata": {
        "colab": {
          "base_uri": "https://localhost:8080/"
        },
        "id": "Gb-0zJFc4OB1",
        "outputId": "789b14fa-7ec1-4962-b612-4f166e5e7453"
      },
      "execution_count": null,
      "outputs": [
        {
          "output_type": "stream",
          "name": "stdout",
          "text": [
            "['vinay', 12, 17.9, 'ravi']\n"
          ]
        }
      ]
    },
    {
      "cell_type": "code",
      "source": [
        "print(type(b))"
      ],
      "metadata": {
        "colab": {
          "base_uri": "https://localhost:8080/"
        },
        "id": "Ug6IEueJ8gSX",
        "outputId": "518427d6-45bb-4a09-d9a1-97a67fdaa8b0"
      },
      "execution_count": null,
      "outputs": [
        {
          "output_type": "stream",
          "name": "stdout",
          "text": [
            "<class 'list'>\n"
          ]
        }
      ]
    },
    {
      "cell_type": "code",
      "source": [
        "print(b[2],type(b[2]))  #here [2]refers index value of element in the list\n",
        "print(b[3])\n",
        "print(b[1],type(b[1]))"
      ],
      "metadata": {
        "colab": {
          "base_uri": "https://localhost:8080/"
        },
        "id": "w-MjhTVH9CLA",
        "outputId": "0e54df39-a310-4e0e-97e3-cc3e49377be3"
      },
      "execution_count": null,
      "outputs": [
        {
          "output_type": "stream",
          "name": "stdout",
          "text": [
            "17.9 <class 'float'>\n",
            "ravi\n",
            "12 <class 'int'>\n"
          ]
        }
      ]
    },
    {
      "cell_type": "code",
      "source": [
        "#negetive indexing :it always start with -1\n",
        "b=[\"vinay\",12,17.9,\"ravi\"]\n",
        "#    -4    -3  -2     -1    negetive indexing\n",
        "print(b[-4],type(b[-4]))"
      ],
      "metadata": {
        "colab": {
          "base_uri": "https://localhost:8080/"
        },
        "id": "pdFxiFHL-5zR",
        "outputId": "1b27bd47-1f27-4273-e9e7-7e126fe95291"
      },
      "execution_count": null,
      "outputs": [
        {
          "output_type": "stream",
          "name": "stdout",
          "text": [
            "vinay <class 'str'>\n"
          ]
        }
      ]
    },
    {
      "cell_type": "code",
      "source": [
        "#length function : it tell  you about the lenght\n",
        "print(len(b))"
      ],
      "metadata": {
        "colab": {
          "base_uri": "https://localhost:8080/"
        },
        "id": "KM5pfS2-BAA0",
        "outputId": "3643af2a-ea76-4de7-f2cb-6c59ad67fbf2"
      },
      "execution_count": null,
      "outputs": [
        {
          "output_type": "stream",
          "name": "stdout",
          "text": [
            "4\n"
          ]
        }
      ]
    },
    {
      "cell_type": "code",
      "source": [
        "#index function: it tells you abot index value of element\n",
        "print(b.index(\"vinay\"))"
      ],
      "metadata": {
        "colab": {
          "base_uri": "https://localhost:8080/"
        },
        "id": "oNk-rSHUBUVr",
        "outputId": "7c40ccd5-1b77-43f2-f613-d12a5aacf0cf"
      },
      "execution_count": null,
      "outputs": [
        {
          "output_type": "stream",
          "name": "stdout",
          "text": [
            "0\n"
          ]
        }
      ]
    },
    {
      "cell_type": "code",
      "source": [
        "b[3]=\"python\"# after updating old list elements with new elements ,we cannot access old values\n",
        "b[1]=4\n",
        "print(b)"
      ],
      "metadata": {
        "colab": {
          "base_uri": "https://localhost:8080/"
        },
        "id": "u2UImnqcB1D2",
        "outputId": "8b05d97f-b19c-47da-a643-40bd29d36e05"
      },
      "execution_count": null,
      "outputs": [
        {
          "output_type": "stream",
          "name": "stdout",
          "text": [
            "['vinay', 4, 17.9, 'python']\n"
          ]
        }
      ]
    },
    {
      "cell_type": "code",
      "source": [
        "#append fuction : basically adds  ur value at the end of the list\n",
        "b.append(\"intellipaat\")\n",
        "print(b)"
      ],
      "metadata": {
        "colab": {
          "base_uri": "https://localhost:8080/"
        },
        "id": "oFiwvPrfDUjW",
        "outputId": "39df6cb3-975a-4eed-baf5-688ff8b4f69d"
      },
      "execution_count": null,
      "outputs": [
        {
          "output_type": "stream",
          "name": "stdout",
          "text": [
            "['vinay', 4, 17.9, 'python', 'intelipaat', 'intellipaat']\n"
          ]
        }
      ]
    },
    {
      "cell_type": "code",
      "source": [
        "#insert fuction: it will allow uh to add a value at a certain index or at a particular place in list\n",
        "b.insert(3,\"coding\")\n",
        "b.insert(4,)\n",
        "print(b)"
      ],
      "metadata": {
        "colab": {
          "base_uri": "https://localhost:8080/"
        },
        "id": "t6x0wJnOD284",
        "outputId": "04c2f5e0-e8be-43df-ff2a-e557fe9f9bcd"
      },
      "execution_count": null,
      "outputs": [
        {
          "output_type": "stream",
          "name": "stdout",
          "text": [
            "['vinay', 4, 17.9, 'coding', 'python', 'intelipaat', 'intellipaat']\n"
          ]
        }
      ]
    },
    {
      "cell_type": "code",
      "source": [
        "#pop fuction: it is a fuction ,delete a  value at a give index\n",
        "b.pop(6)\n",
        "print(b)"
      ],
      "metadata": {
        "colab": {
          "base_uri": "https://localhost:8080/"
        },
        "id": "8YcFOgsPFC8Y",
        "outputId": "d820a8c8-c059-4dc6-d5ba-7d012284a26d"
      },
      "execution_count": null,
      "outputs": [
        {
          "output_type": "stream",
          "name": "stdout",
          "text": [
            "['vinay', 4, 17.9, 'coding', 'python', 'intelipaat']\n"
          ]
        }
      ]
    },
    {
      "cell_type": "code",
      "source": [
        "b.pop()# when no index is given ,by default it removes the last element in the list, because lists are in ordered\n",
        "print(b)#whene we run pop fuction multiple times it will removes elements  one by one from end"
      ],
      "metadata": {
        "colab": {
          "base_uri": "https://localhost:8080/"
        },
        "id": "d7rr1TL0FlYC",
        "outputId": "2254f3bc-0040-4a00-e033-aec59491d3be"
      },
      "execution_count": null,
      "outputs": [
        {
          "output_type": "stream",
          "name": "stdout",
          "text": [
            "['vinay', 4]\n"
          ]
        }
      ]
    },
    {
      "cell_type": "code",
      "source": [
        "#remove fuction : delete an element using a value\n",
        "a=[\"jaya\",45,\"raj\",12.4,\"kinnu\",\"pavan\",3433] # we cannot delete 2 index values at a time\n",
        "print(a)\n",
        "a.remove(\"jaya\",)\n",
        "print(a)"
      ],
      "metadata": {
        "colab": {
          "base_uri": "https://localhost:8080/"
        },
        "id": "nbo8e1vZFnlA",
        "outputId": "06cb3474-dcc6-4d15-dbfe-90d2c83308de"
      },
      "execution_count": null,
      "outputs": [
        {
          "output_type": "stream",
          "name": "stdout",
          "text": [
            "['jaya', 45, 'raj', 12.4, 'kinnu', 'pavan', 3433]\n",
            "[45, 'raj', 12.4, 'kinnu', 'pavan', 3433]\n"
          ]
        }
      ]
    },
    {
      "cell_type": "code",
      "source": [
        "#count fuction :number of  times  ocurences of a value\n",
        "\n",
        "c=[2,5,4,5,6,7,8,3,8,7,5,2,9,7,3,8,]\n",
        "print(len(c))\n",
        "print(c.count(7))\n"
      ],
      "metadata": {
        "colab": {
          "base_uri": "https://localhost:8080/"
        },
        "id": "26liGo6EIbk4",
        "outputId": "f7d7b404-80c9-47f1-8e5a-e620d816e364"
      },
      "execution_count": null,
      "outputs": [
        {
          "output_type": "stream",
          "name": "stdout",
          "text": [
            "16\n",
            "3\n"
          ]
        }
      ]
    },
    {
      "cell_type": "code",
      "source": [
        "#Tuple : ordered ,imutable (cannot be modified),duplicates are allowed\n",
        "#Tuple should be in () this\n",
        "#difference list and tuple is ,in list we can modified, but when it comes to tuple we can't modified the values in tuple\n",
        "\n",
        "t1=(\"vinay\" ,23,\"zeel\",45,18)\n",
        "#     0       1    2    3  4   postive indexing\n",
        "#     -5     -4   -3   -2 -1   negetive indexing\n",
        "print(t1,type(t1))"
      ],
      "metadata": {
        "id": "3MrOVQW-JSI_",
        "colab": {
          "base_uri": "https://localhost:8080/"
        },
        "outputId": "d5b0198c-3ece-4415-99b9-142c5a004cc3"
      },
      "execution_count": null,
      "outputs": [
        {
          "output_type": "stream",
          "name": "stdout",
          "text": [
            "('vinay', 23, 'zeel', 45, 18) <class 'tuple'>\n"
          ]
        }
      ]
    },
    {
      "cell_type": "code",
      "source": [
        "print(t1[3]) #using positive indexing\n",
        "print(t1[-5])#using negetive indexing"
      ],
      "metadata": {
        "colab": {
          "base_uri": "https://localhost:8080/"
        },
        "id": "_sP1JXO05L7_",
        "outputId": "f147f5e3-e524-4fef-81f8-3728dc6070a8"
      },
      "execution_count": null,
      "outputs": [
        {
          "output_type": "stream",
          "name": "stdout",
          "text": [
            "45\n",
            "vinay\n"
          ]
        }
      ]
    },
    {
      "cell_type": "code",
      "source": [
        "#trying to update value in tuple : its shows erroe bcoz tuple is imutable\n",
        "\n",
        "t1[0]=\"shanmuk\"\n",
        "print(t1)"
      ],
      "metadata": {
        "colab": {
          "base_uri": "https://localhost:8080/",
          "height": 200
        },
        "id": "5y50tmtF6OVR",
        "outputId": "d007a432-2898-49c5-d7a3-83a984b7f5a0"
      },
      "execution_count": null,
      "outputs": [
        {
          "output_type": "error",
          "ename": "TypeError",
          "evalue": "'tuple' object does not support item assignment",
          "traceback": [
            "\u001b[0;31m---------------------------------------------------------------------------\u001b[0m",
            "\u001b[0;31mTypeError\u001b[0m                                 Traceback (most recent call last)",
            "\u001b[0;32m/tmp/ipython-input-6-2633141030.py\u001b[0m in \u001b[0;36m<cell line: 0>\u001b[0;34m()\u001b[0m\n\u001b[1;32m      1\u001b[0m \u001b[0;31m#trying to update tuple\u001b[0m\u001b[0;34m\u001b[0m\u001b[0;34m\u001b[0m\u001b[0m\n\u001b[1;32m      2\u001b[0m \u001b[0;34m\u001b[0m\u001b[0m\n\u001b[0;32m----> 3\u001b[0;31m \u001b[0mt1\u001b[0m\u001b[0;34m[\u001b[0m\u001b[0;36m0\u001b[0m\u001b[0;34m]\u001b[0m\u001b[0;34m=\u001b[0m\u001b[0;34m\"shanmuk\"\u001b[0m\u001b[0;34m\u001b[0m\u001b[0;34m\u001b[0m\u001b[0m\n\u001b[0m\u001b[1;32m      4\u001b[0m \u001b[0mprint\u001b[0m\u001b[0;34m(\u001b[0m\u001b[0mt1\u001b[0m\u001b[0;34m)\u001b[0m\u001b[0;34m\u001b[0m\u001b[0;34m\u001b[0m\u001b[0m\n",
            "\u001b[0;31mTypeError\u001b[0m: 'tuple' object does not support item assignment"
          ]
        }
      ]
    },
    {
      "cell_type": "code",
      "source": [
        "#type casting :to change one data type to another data type\n",
        "#here to update values in tuple we use type casting\n",
        "#we should change tuple into list to update values in tuple\n",
        "\n",
        "t1=list(t1)\n",
        "print(t1,type(t1))"
      ],
      "metadata": {
        "colab": {
          "base_uri": "https://localhost:8080/"
        },
        "id": "noFGtGwX605L",
        "outputId": "1b2c5517-febe-4a2f-8535-fd23c313b86d"
      },
      "execution_count": null,
      "outputs": [
        {
          "output_type": "stream",
          "name": "stdout",
          "text": [
            "['vinay', 23, 'zeel', 45, 18] <class 'list'>\n"
          ]
        }
      ]
    },
    {
      "cell_type": "code",
      "source": [
        "# Append fuction for tuple : here we not updating values ,we are adding new values to the exisiting tuple\n",
        "t1.append(\"shanmuk\")\n",
        "print(t1)"
      ],
      "metadata": {
        "colab": {
          "base_uri": "https://localhost:8080/"
        },
        "id": "AB3fTJ_b_PYr",
        "outputId": "f28fa67b-ad88-43c6-89de-4db2a8c0e180"
      },
      "execution_count": null,
      "outputs": [
        {
          "output_type": "stream",
          "name": "stdout",
          "text": [
            "['vinay', 23, 'zeel', 45, 18, 'shanmuk']\n"
          ]
        }
      ]
    },
    {
      "cell_type": "code",
      "source": [
        "# chaging list to tuple\n",
        "t1=tuple(t1)\n",
        "print(t1)"
      ],
      "metadata": {
        "colab": {
          "base_uri": "https://localhost:8080/"
        },
        "id": "mlUugyxV_qPw",
        "outputId": "b7338a93-6a45-4cc2-bf36-373f0b3056ea"
      },
      "execution_count": null,
      "outputs": [
        {
          "output_type": "stream",
          "name": "stdout",
          "text": [
            "('vinay', 23, 'zeel', 45, 18, 'shanmuk')\n"
          ]
        }
      ]
    },
    {
      "cell_type": "code",
      "source": [
        "# range fuction : start ,end +1( end is excluded)\n",
        "t1=tuple(range(1,11))\n",
        "print(t1)"
      ],
      "metadata": {
        "colab": {
          "base_uri": "https://localhost:8080/"
        },
        "id": "wod-KQIpAFzF",
        "outputId": "1f286a12-d50b-4511-af36-d609270284cd"
      },
      "execution_count": null,
      "outputs": [
        {
          "output_type": "stream",
          "name": "stdout",
          "text": [
            "(1, 2, 3, 4, 5, 6, 7, 8, 9, 10)\n"
          ]
        }
      ]
    },
    {
      "cell_type": "code",
      "source": [
        "# range fuction : start ,end +1( end is excluded)\n",
        "# another perametter in range fuction is (skip or step)  : it will allows you add any value\n",
        "t1=tuple(range(1,11,3))\n",
        "print(t1)"
      ],
      "metadata": {
        "colab": {
          "base_uri": "https://localhost:8080/"
        },
        "id": "KKzFGDftBPtA",
        "outputId": "17c69d32-f5a6-4348-f11a-01f0344cc907"
      },
      "execution_count": null,
      "outputs": [
        {
          "output_type": "stream",
          "name": "stdout",
          "text": [
            "(1, 4, 7, 10)\n"
          ]
        }
      ]
    },
    {
      "cell_type": "code",
      "source": [
        "#print only elements at even index positions\n",
        "ti=[\"a\",\"b\",\"c\",\"d\",\"e\"]\n",
        "#    0   1   2   3   4  positive indexing\n",
        "t1=ti[::2]\n",
        "print(t1)\n"
      ],
      "metadata": {
        "colab": {
          "base_uri": "https://localhost:8080/"
        },
        "id": "7BhRH_BWxCcg",
        "outputId": "48165e88-008b-47a7-9342-74f4c4fbd356"
      },
      "execution_count": null,
      "outputs": [
        {
          "output_type": "stream",
          "name": "stdout",
          "text": [
            "['a', 'c', 'e']\n"
          ]
        }
      ]
    },
    {
      "cell_type": "code",
      "source": [
        "# Slicing[start: end] : means trying to get  some specific part from your list or tuple\n",
        "# accessing multiple elements,end is excluded\n",
        "#note: even duplicate values are allowed,it won't shows error\n",
        "ls=[\"AB\",\"CD\",\"EF\",\"GH\",\"IJ\"]\n",
        "#    0     1    2    3    4   positive indexing\n",
        "#   -5    -4   -3   -2   -1   negetive indexing\n",
        "print(ls)"
      ],
      "metadata": {
        "colab": {
          "base_uri": "https://localhost:8080/"
        },
        "id": "vxNTZ3mWCkJ5",
        "outputId": "f89fccb0-5f63-4365-dfec-86dd0d73580e"
      },
      "execution_count": null,
      "outputs": [
        {
          "output_type": "stream",
          "name": "stdout",
          "text": [
            "['AB', 'CD', 'EF', 'GH', 'IJ']\n"
          ]
        }
      ]
    },
    {
      "cell_type": "code",
      "source": [
        "print(ls[2:4]) # using postive index  # slicing\n",
        "print(ls[-4:-1]) #using negetive index,\n",
        "print(len(ls))# length of the list\n",
        "print(ls[1:])# when uh dont know the last index value\n",
        "print(ls[:-1])"
      ],
      "metadata": {
        "colab": {
          "base_uri": "https://localhost:8080/"
        },
        "id": "K-mwldEBEXXz",
        "outputId": "1c9ba814-0d99-4bd3-f81f-654017d3038c"
      },
      "execution_count": null,
      "outputs": [
        {
          "output_type": "stream",
          "name": "stdout",
          "text": [
            "['EF', 'GH']\n",
            "['CD', 'EF', 'GH']\n",
            "5\n",
            "['CD', 'EF', 'GH', 'IJ']\n",
            "['AB', 'CD', 'EF', 'GH']\n"
          ]
        }
      ]
    },
    {
      "cell_type": "markdown",
      "source": [
        "              // STRINGS\n",
        "\n",
        "-   String is ordered ,imutabale(cannot be modified ,duplicates are allowed\n",
        "\n"
      ],
      "metadata": {
        "id": "VmSmH-kKPVQ_"
      }
    },
    {
      "cell_type": "code",
      "source": [
        "# strings\n",
        "s=\"vinay\"\n",
        "#  01234  index values    positive indexing\n",
        "#  -5 -4 -3 -2 -1         negetive indexing\n",
        "print(s,type(s))\n",
        "print(s[3]) # using positive indexing\n",
        "print(s[-3])# using negetive indexing"
      ],
      "metadata": {
        "colab": {
          "base_uri": "https://localhost:8080/"
        },
        "id": "U_ucNCsKKf60",
        "outputId": "dd7a6059-49e6-41a7-8d2d-f25cd8613525"
      },
      "execution_count": null,
      "outputs": [
        {
          "output_type": "stream",
          "name": "stdout",
          "text": [
            "vinay <class 'str'>\n",
            "a\n",
            "n\n"
          ]
        }
      ]
    },
    {
      "cell_type": "code",
      "source": [
        "#trying to change value in string: it shows error because strings are imutable\n",
        "s[3]=\"a\"\n",
        "print(s)"
      ],
      "metadata": {
        "colab": {
          "base_uri": "https://localhost:8080/",
          "height": 164
        },
        "id": "G1k9KVCGRxs5",
        "outputId": "8f3e7e08-9ceb-40d5-ac17-ed26b1f7d878"
      },
      "execution_count": null,
      "outputs": [
        {
          "output_type": "error",
          "ename": "TypeError",
          "evalue": "'str' object does not support item assignment",
          "traceback": [
            "\u001b[0;31m---------------------------------------------------------------------------\u001b[0m",
            "\u001b[0;31mTypeError\u001b[0m                                 Traceback (most recent call last)",
            "\u001b[0;32m/tmp/ipython-input-34-335944665.py\u001b[0m in \u001b[0;36m<cell line: 0>\u001b[0;34m()\u001b[0m\n\u001b[0;32m----> 1\u001b[0;31m \u001b[0ms\u001b[0m\u001b[0;34m[\u001b[0m\u001b[0;36m3\u001b[0m\u001b[0;34m]\u001b[0m\u001b[0;34m=\u001b[0m\u001b[0;34m\"a\"\u001b[0m\u001b[0;34m\u001b[0m\u001b[0;34m\u001b[0m\u001b[0m\n\u001b[0m\u001b[1;32m      2\u001b[0m \u001b[0mprint\u001b[0m\u001b[0;34m(\u001b[0m\u001b[0ms\u001b[0m\u001b[0;34m)\u001b[0m\u001b[0;34m\u001b[0m\u001b[0;34m\u001b[0m\u001b[0m\n",
            "\u001b[0;31mTypeError\u001b[0m: 'str' object does not support item assignment"
          ]
        }
      ]
    },
    {
      "cell_type": "code",
      "source": [
        "s1=\"Hi,\"\n",
        "s2=\" i am a learner\"\n",
        "print(s1+s2) #concatenation means adding togeather.\n"
      ],
      "metadata": {
        "colab": {
          "base_uri": "https://localhost:8080/"
        },
        "id": "Jh6KA3QKSY8L",
        "outputId": "7e260fe6-adbd-4280-ed73-aa42c7c56d4f"
      },
      "execution_count": null,
      "outputs": [
        {
          "output_type": "stream",
          "name": "stdout",
          "text": [
            "Hi, i am a learner\n"
          ]
        }
      ]
    },
    {
      "cell_type": "markdown",
      "source": [],
      "metadata": {
        "id": "fTD1nyrNCL6O"
      }
    }
  ]
}